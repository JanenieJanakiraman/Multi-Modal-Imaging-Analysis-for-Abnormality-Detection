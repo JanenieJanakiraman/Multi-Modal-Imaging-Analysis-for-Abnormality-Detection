{
 "cells": [
  {
   "cell_type": "code",
   "execution_count": null,
   "id": "638b9a70-f7fc-4202-8cc2-2b70e78fbcde",
   "metadata": {},
   "outputs": [],
   "source": [
    "import warnings\n",
    "warnings.filterwarnings(\"ignore\", message=\"Error parsing dependencies of textract\")"
   ]
  },
  {
   "cell_type": "code",
   "execution_count": null,
   "id": "2a497856-09e1-41ea-ba8a-60df4ff15c80",
   "metadata": {},
   "outputs": [],
   "source": [
    "!pip install scikit-video\n",
    "!pip install -U scikit-learn\n",
    "!pip install -U scikit-video"
   ]
  },
  {
   "cell_type": "markdown",
   "id": "d9ada1bf-b59a-417b-986b-d8b8dad8f917",
   "metadata": {},
   "source": [
    "## Preprocessing Imaging Data\n",
    "### Extract Frames from Videos"
   ]
  },
  {
   "cell_type": "code",
   "execution_count": null,
   "id": "37481352-488c-4212-9e2e-1a090a09e5e2",
   "metadata": {},
   "outputs": [],
   "source": [
    "import os\n",
    "import cv2\n",
    "\n",
    "def extract_frames_from_directory(videos_dir, output_base_dir):\n",
    "    video_files = [f for f in os.listdir(videos_dir) if f.endswith('.avi')]\n",
    "    \n",
    "    for video_file in video_files:\n",
    "        video_path = os.path.join(videos_dir, video_file)\n",
    "        video_output_dir = os.path.join(output_base_dir, os.path.splitext(video_file)[0])\n",
    "        os.makedirs(video_output_dir, exist_ok=True)\n",
    "        \n",
    "        cap = cv2.VideoCapture(video_path)\n",
    "        frame_count = 0\n",
    "        while cap.isOpened():\n",
    "            ret, frame = cap.read()\n",
    "            if not ret:\n",
    "                break\n",
    "            frame_path = os.path.join(video_output_dir, f'frame_{frame_count:04d}.jpg')\n",
    "            cv2.imwrite(frame_path, frame)\n",
    "            frame_count += 1\n",
    "        cap.release()\n",
    "\n",
    "# Example usage\n",
    "videos_dir = '/Users/hardikchhipa/Desktop/Data manupulations projects/heart_Echo/Dataset of ECHO/HMC-QU/A4C' #vids ka link\n",
    "output_base_dir = '/Users/hardikchhipa/Desktop/Data manupulations projects/heart_Echo/output' #frame jis folder me store karwani ha\n",
    "extract_frames_from_directory(videos_dir, output_base_dir)\n"
   ]
  },
  {
   "cell_type": "markdown",
   "id": "c6bd3b8a-dcdf-4caf-8466-fac0a0e4aca9",
   "metadata": {},
   "source": [
    "### Normalize and Resize Images"
   ]
  },
  {
   "cell_type": "code",
   "execution_count": null,
   "id": "ef1a507d-fb23-4a7f-945b-0e94f7b4ebe5",
   "metadata": {},
   "outputs": [],
   "source": [
    "from tensorflow.keras.preprocessing.image import img_to_array, load_img\n",
    "import numpy as np\n",
    "\n",
    "def preprocess_image(image_path, target_size=(224, 224)):\n",
    "    img = load_img(image_path, target_size=target_size)\n",
    "    img_array = img_to_array(img)\n",
    "    img_array = img_array / 255.0  # Normalize to [0, 1] range\n",
    "    return img_array\n",
    "\n",
    "def preprocess_images(input_dir, output_dir, target_size=(224, 224)):\n",
    "    os.makedirs(output_dir, exist_ok=True)\n",
    "    for root, dirs, files in os.walk(input_dir):\n",
    "        for file in files:\n",
    "            if file.endswith('.jpg'):\n",
    "                img_path = os.path.join(root, file)\n",
    "                img_array = preprocess_image(img_path, target_size=target_size)\n",
    "                output_path = os.path.join(output_dir, os.path.relpath(img_path, input_dir))\n",
    "                os.makedirs(os.path.dirname(output_path), exist_ok=True)\n",
    "                np.save(output_path.replace('.jpg', '.npy'), img_array)\n",
    "\n",
    "# Example usage\n",
    "input_dir = '/Users/hardikchhipa/Desktop/Data manupulations projects/heart_Echo/output' #jaha par frames ha\n",
    "output_dir = '/Users/hardikchhipa/Desktop/Data manupulations projects/heart_Echo/Dataset of ECHO/HMC-QU/per-processed_imgs_A4C' # jaha par preprocessed data save karwa na ho\n",
    "preprocess_images(input_dir, output_dir)"
   ]
  }
 ],
 "metadata": {
  "kernelspec": {
   "display_name": "Python 3 (ipykernel)",
   "language": "python",
   "name": "python3"
  },
  "language_info": {
   "codemirror_mode": {
    "name": "ipython",
    "version": 3
   },
   "file_extension": ".py",
   "mimetype": "text/x-python",
   "name": "python",
   "nbconvert_exporter": "python",
   "pygments_lexer": "ipython3",
   "version": "3.12.4"
  }
 },
 "nbformat": 4,
 "nbformat_minor": 5
}
